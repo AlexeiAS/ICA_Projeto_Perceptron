{
 "cells": [
  {
   "cell_type": "markdown",
   "metadata": {},
   "source": [
    "#### By : Alexei Alves de Souza"
   ]
  },
  {
   "cell_type": "markdown",
   "metadata": {},
   "source": [
    "#### Esse Noteebok detalha passo a passo a classe perceptron desenvolvida"
   ]
  },
  {
   "cell_type": "markdown",
   "metadata": {},
   "source": [
    "#### Perceptron :"
   ]
  },
  {
   "cell_type": "code",
   "execution_count": null,
   "metadata": {},
   "outputs": [],
   "source": [
    "### Esse Perceptron é baseado na versão apresentada no livro  Python Machine Learning de Sebastian Raschka e Vahid Mirjalili , \n",
    "### com algumas modificações para a tarefa apresentada.\n",
    "class Perceptron(object):\n",
    "    def __init__(self,eta = 1.0,niter = 10000,up = 1, down = 0):\n",
    "        self.eta = eta  #Taxa de aprendizagem\n",
    "        self.niter = niter \n",
    "        self.up = up\n",
    "        self.down = down\n",
    "        \n",
    "    def fit(self,X,y,w = []):\n",
    "        self.w = w\n",
    "        if len(self.w)==0:\n",
    "            self.w = np.random.rand(1 + X.shape[1])\n",
    "            self.init_w = self.w.copy()\n",
    "        self.errors = []\n",
    "        \n",
    "        for i in range (self.niter):\n",
    "            iter_error = 0\n",
    "            old_w = self.w.copy()\n",
    "            for xi,yi in zip(X,y):\n",
    "                update = self.eta * (yi - self.predict(xi))\n",
    "                self.w[1:] += update * xi\n",
    "                self.w[0] += update\n",
    "                iter_error += int(update != 0)\n",
    "            self.errors.append(iter_error)\n",
    "            if (self.w == old_w).all():\n",
    "                self.niter = i\n",
    "                break\n",
    "            \n",
    "        return self\n",
    "    \n",
    "    def net_input(self,x):\n",
    "        return np.dot(x,self.w[1:]) + self.w[0]\n",
    "\n",
    "    def predict(self,x):\n",
    "        #Define a função :\n",
    "        y_ = self.net_input(x)\n",
    "        return np.where(y_ <=0,self.down,self.up)"
   ]
  },
  {
   "cell_type": "markdown",
   "metadata": {},
   "source": [
    "#### Método __init__(self,eta = 1.0,niter = 10000,up = 1, down = 0)\n",
    "#### eta : taxa de aprendizagem\n",
    "#### niter : número de interações/épocas\n",
    "#### up : valor superior da função g(u)\n",
    "#### down : valor inferior da função g(u)"
   ]
  },
  {
   "cell_type": "code",
   "execution_count": null,
   "metadata": {},
   "outputs": [],
   "source": [
    "    def __init__(self,eta = 1.0,niter = 10000,up = 1, down = 0):\n",
    "        self.eta = eta  #Taxa de aprendizagem\n",
    "        self.niter = niter \n",
    "        self.up = up\n",
    "        self.down = down"
   ]
  },
  {
   "cell_type": "markdown",
   "metadata": {},
   "source": [
    "#### Método fit(self,X,y,w = [])\n",
    "#### Passa o conjunto de dados pela rede\n",
    "#### X : valores de entrada\n",
    "#### y : labels\n",
    "#### w : permite passar os próprios pesos, senão inicia aleatoriamente"
   ]
  },
  {
   "cell_type": "code",
   "execution_count": null,
   "metadata": {},
   "outputs": [],
   "source": [
    "    def fit(self,X,y,w = []):"
   ]
  },
  {
   "cell_type": "markdown",
   "metadata": {},
   "source": [
    "#### Inicializa os pesos aleatoriamente ou utilizando os fornecidos:"
   ]
  },
  {
   "cell_type": "code",
   "execution_count": null,
   "metadata": {},
   "outputs": [],
   "source": [
    "        self.w = w\n",
    "        if len(self.w)==0:\n",
    "            self.w = np.random.rand(1 + X.shape[1])\n",
    "            self.init_w = self.w.copy()\n",
    "        self.errors = []"
   ]
  },
  {
   "cell_type": "markdown",
   "metadata": {},
   "source": [
    "#### Laço de atualização dos pesos:\n"
   ]
  },
  {
   "cell_type": "code",
   "execution_count": null,
   "metadata": {},
   "outputs": [],
   "source": [
    "        for i in range (self.niter):\n",
    "            iter_error = 0\n",
    "            old_w = self.w.copy()\n",
    "            for xi,yi in zip(X,y):\n",
    "                update = self.eta * (yi - self.predict(xi))\n",
    "                self.w[1:] += update * xi\n",
    "                self.w[0] += update\n",
    "                iter_error += int(update != 0)\n",
    "            self.errors.append(iter_error)"
   ]
  },
  {
   "cell_type": "markdown",
   "metadata": {},
   "source": [
    "#### Critério de parada quando não se detecta modificações nos pesos entre uma época e a seguinte:"
   ]
  },
  {
   "cell_type": "code",
   "execution_count": null,
   "metadata": {},
   "outputs": [],
   "source": [
    "            if (self.w == old_w).all():\n",
    "                self.niter = i\n",
    "                break"
   ]
  },
  {
   "cell_type": "markdown",
   "metadata": {},
   "source": [
    "#### Método net_input(self,x)\n",
    "#### Passa cada entrada pela rede e mutiplica pelos pesos"
   ]
  },
  {
   "cell_type": "code",
   "execution_count": null,
   "metadata": {},
   "outputs": [],
   "source": [
    "    def net_input(self,x):\n",
    "        return np.dot(x,self.w[1:]) + self.w[0]"
   ]
  },
  {
   "cell_type": "markdown",
   "metadata": {},
   "source": [
    "#### Método predict(self,x):\n",
    "#### prediz os resultados para a entrada com base na função g estabelecida"
   ]
  },
  {
   "cell_type": "code",
   "execution_count": null,
   "metadata": {},
   "outputs": [],
   "source": [
    "    def predict(self,x):\n",
    "        #Define a função :\n",
    "        y_ = self.net_input(x)\n",
    "        return np.where(y_ <=0,self.down,self.up)"
   ]
  },
  {
   "cell_type": "code",
   "execution_count": null,
   "metadata": {},
   "outputs": [],
   "source": []
  }
 ],
 "metadata": {
  "kernelspec": {
   "display_name": "Python 3",
   "language": "python",
   "name": "python3"
  },
  "language_info": {
   "codemirror_mode": {
    "name": "ipython",
    "version": 3
   },
   "file_extension": ".py",
   "mimetype": "text/x-python",
   "name": "python",
   "nbconvert_exporter": "python",
   "pygments_lexer": "ipython3",
   "version": "3.8.3"
  }
 },
 "nbformat": 4,
 "nbformat_minor": 4
}
