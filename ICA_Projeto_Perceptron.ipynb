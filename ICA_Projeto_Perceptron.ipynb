{
 "cells": [
  {
   "cell_type": "code",
   "execution_count": 1,
   "metadata": {},
   "outputs": [],
   "source": [
    "import numpy as np\n",
    "import matplotlib.pyplot as plt\n",
    "import pandas as pd"
   ]
  },
  {
   "cell_type": "markdown",
   "metadata": {},
   "source": [
    "#### Implementação do Perceptron"
   ]
  },
  {
   "cell_type": "code",
   "execution_count": 2,
   "metadata": {},
   "outputs": [],
   "source": [
    "### Esse Perceptron é baseado na versão apresentada no livro  Python Machine Learning de Sebastian Raschka e Vahid Mirjalili , \n",
    "### com algumas modificações para a tarefa apresentada.\n",
    "class Perceptron(object):\n",
    "    def __init__(self,eta = 1.0,niter = 10000,up = 1, down = 0):\n",
    "        self.eta = eta  #Taxa de aprendizagem\n",
    "        self.niter = niter \n",
    "        self.up = up\n",
    "        self.down = down\n",
    "        \n",
    "    def fit(self,X,y,w = []):\n",
    "        self.w = w\n",
    "        if len(self.w)==0:\n",
    "            self.w = np.random.rand(1 + X.shape[1])\n",
    "            self.init_w = self.w.copy()\n",
    "        self.errors = []\n",
    "        \n",
    "        for i in range (self.niter):\n",
    "            iter_error = 0\n",
    "            old_w = self.w.copy()\n",
    "            for xi,yi in zip(X,y):\n",
    "                update = self.eta * (yi - self.predict(xi))\n",
    "                self.w[1:] += update * xi\n",
    "                self.w[0] += update\n",
    "                iter_error += int(update != 0)\n",
    "            self.errors.append(iter_error)\n",
    "            if (self.w == old_w).all():\n",
    "                self.niter = i\n",
    "                break\n",
    "            \n",
    "        return self\n",
    "    \n",
    "    def net_input(self,x):\n",
    "        return np.dot(x,self.w[1:]) + self.w[0]\n",
    "\n",
    "    def predict(self,x):\n",
    "        #Define a função :\n",
    "        y_ = self.net_input(x)\n",
    "        return np.where(y_ <=0,self.down,self.up)\n",
    "        "
   ]
  },
  {
   "cell_type": "markdown",
   "metadata": {},
   "source": [
    "#### Questão 1:\n",
    "##### Utilizar o perceptron para análisar as classes de pureza P1 e P2 de um determinado óleo derivado do petróleo através de uma aprendizagem supervisionada.\n",
    "#### g = { 0, u <=0 ; 1, u > 0"
   ]
  },
  {
   "cell_type": "markdown",
   "metadata": {},
   "source": [
    "##### Carrega o dataset com a lib pandas e mostra os 5 primeiros elementos dele."
   ]
  },
  {
   "cell_type": "code",
   "execution_count": 3,
   "metadata": {},
   "outputs": [
    {
     "data": {
      "text/html": [
       "<div>\n",
       "<style scoped>\n",
       "    .dataframe tbody tr th:only-of-type {\n",
       "        vertical-align: middle;\n",
       "    }\n",
       "\n",
       "    .dataframe tbody tr th {\n",
       "        vertical-align: top;\n",
       "    }\n",
       "\n",
       "    .dataframe thead th {\n",
       "        text-align: right;\n",
       "    }\n",
       "</style>\n",
       "<table border=\"1\" class=\"dataframe\">\n",
       "  <thead>\n",
       "    <tr style=\"text-align: right;\">\n",
       "      <th></th>\n",
       "      <th>x1</th>\n",
       "      <th>x2</th>\n",
       "      <th>x3</th>\n",
       "      <th>d</th>\n",
       "    </tr>\n",
       "  </thead>\n",
       "  <tbody>\n",
       "    <tr>\n",
       "      <th>0</th>\n",
       "      <td>-0.6508</td>\n",
       "      <td>0.1097</td>\n",
       "      <td>4.0009</td>\n",
       "      <td>-1</td>\n",
       "    </tr>\n",
       "    <tr>\n",
       "      <th>1</th>\n",
       "      <td>-1.4492</td>\n",
       "      <td>0.8896</td>\n",
       "      <td>4.4005</td>\n",
       "      <td>-1</td>\n",
       "    </tr>\n",
       "    <tr>\n",
       "      <th>2</th>\n",
       "      <td>2.0850</td>\n",
       "      <td>0.6876</td>\n",
       "      <td>12.0710</td>\n",
       "      <td>-1</td>\n",
       "    </tr>\n",
       "    <tr>\n",
       "      <th>3</th>\n",
       "      <td>0.2626</td>\n",
       "      <td>1.1476</td>\n",
       "      <td>7.7985</td>\n",
       "      <td>1</td>\n",
       "    </tr>\n",
       "    <tr>\n",
       "      <th>4</th>\n",
       "      <td>0.6418</td>\n",
       "      <td>1.0234</td>\n",
       "      <td>7.0427</td>\n",
       "      <td>1</td>\n",
       "    </tr>\n",
       "  </tbody>\n",
       "</table>\n",
       "</div>"
      ],
      "text/plain": [
       "       x1      x2       x3  d\n",
       "0 -0.6508  0.1097   4.0009 -1\n",
       "1 -1.4492  0.8896   4.4005 -1\n",
       "2  2.0850  0.6876  12.0710 -1\n",
       "3  0.2626  1.1476   7.7985  1\n",
       "4  0.6418  1.0234   7.0427  1"
      ]
     },
     "execution_count": 3,
     "metadata": {},
     "output_type": "execute_result"
    }
   ],
   "source": [
    "dataset = pd.read_excel('Tabela.xls')\n",
    "dataset.head(5)"
   ]
  },
  {
   "cell_type": "markdown",
   "metadata": {},
   "source": [
    "##### Extrai as colunas de input e os labels"
   ]
  },
  {
   "cell_type": "code",
   "execution_count": 4,
   "metadata": {},
   "outputs": [],
   "source": [
    "data = np.array(dataset)\n",
    "inputs = data[:,0:3]\n",
    "labels = data[:,3]"
   ]
  },
  {
   "cell_type": "markdown",
   "metadata": {},
   "source": [
    "##### Inicializa o perceptron com os dados da questão, taxa de aprendizado = 0.01 e classes P1 e P2 = 1 e -1"
   ]
  },
  {
   "cell_type": "code",
   "execution_count": 5,
   "metadata": {},
   "outputs": [],
   "source": [
    "percep = Perceptron(eta = 0.01,up = 1,down = -1)"
   ]
  },
  {
   "cell_type": "markdown",
   "metadata": {},
   "source": [
    "##### Passa os valores de entrada e os labels pela rede e mostra os pesos"
   ]
  },
  {
   "cell_type": "code",
   "execution_count": 6,
   "metadata": {},
   "outputs": [
    {
     "data": {
      "text/plain": [
       "<__main__.Perceptron at 0x208ca1c28b0>"
      ]
     },
     "execution_count": 6,
     "metadata": {},
     "output_type": "execute_result"
    }
   ],
   "source": [
    "percep.fit(inputs,labels)"
   ]
  },
  {
   "cell_type": "code",
   "execution_count": 7,
   "metadata": {},
   "outputs": [
    {
     "name": "stdout",
     "output_type": "stream",
     "text": [
      "Pesos iniciais: [0.27850623 0.25409259 0.19300052 0.71837473]\n",
      "Pesos wbias,w1,w2,w3: [ 3.01850623  1.46490659  2.44861452 -0.72123527]\n",
      "Numero de epocas: 375\n"
     ]
    }
   ],
   "source": [
    "pesos = percep.w\n",
    "print('Pesos iniciais:', percep.init_w)\n",
    "print('Pesos wbias,w1,w2,w3:',pesos)\n",
    "print('Numero de epocas:',percep.niter)"
   ]
  },
  {
   "cell_type": "markdown",
   "metadata": {},
   "source": [
    "##### Calculo da acurácia do modelo obtido"
   ]
  },
  {
   "cell_type": "code",
   "execution_count": 8,
   "metadata": {},
   "outputs": [],
   "source": [
    "### Função para cálculo da acurácia\n",
    "def model_score(X_test,y_test,perceptron):\n",
    "    y_test = np.array(y_test)\n",
    "    y_predict = perceptron.predict(X_test)\n",
    "    total_lb = len(y_test)\n",
    "    \n",
    "    equal_lb, = np.where(y_test==y_predict)\n",
    "    equal_lb = len(equal_lb)\n",
    "    score = equal_lb/total_lb\n",
    "    return score"
   ]
  },
  {
   "cell_type": "code",
   "execution_count": 9,
   "metadata": {},
   "outputs": [
    {
     "name": "stdout",
     "output_type": "stream",
     "text": [
      "Acurracy: 100.0 %\n"
     ]
    }
   ],
   "source": [
    "score = model_score(inputs,labels,percep)\n",
    "print('Acurracy:', score*100 , '%')"
   ]
  },
  {
   "cell_type": "markdown",
   "metadata": {},
   "source": [
    "##### Como esperado é obtido 100% de acurácia utilizando o próprio dataset de treino como dataset de teste"
   ]
  },
  {
   "cell_type": "markdown",
   "metadata": {},
   "source": [
    "##### Note que como não é passo nenhum argumento em w na função fit os pesos são utilizados aleatoriamente utilizando a função random.rand do numpy. \n",
    "##### Assim é realizada as 4 novas iterações e mostrados seus respectivos pesos\n"
   ]
  },
  {
   "cell_type": "code",
   "execution_count": 10,
   "metadata": {},
   "outputs": [
    {
     "name": "stdout",
     "output_type": "stream",
     "text": [
      "Pesos iniciais: [0.70163907 0.43579001 0.20054082 0.35060032]\n",
      "Pesos wbias,w1,w2,w3: [ 3.10163907  1.57044201  2.48939482 -0.73920368]\n",
      "Acurracy: 100.0 %\n",
      "Numero de epocas: 394\n"
     ]
    }
   ],
   "source": [
    "percep1 = Perceptron(eta = 0.01,up = 1,down = -1)\n",
    "percep1.fit(inputs,labels)\n",
    "pesos1 = percep1.w\n",
    "score1 = model_score(inputs,labels,percep1)\n",
    "\n",
    "print('Pesos iniciais:', percep1.init_w)\n",
    "print('Pesos wbias,w1,w2,w3:',pesos1)\n",
    "print('Acurracy:', score1*100 , '%')\n",
    "print('Numero de epocas:',percep1.niter)"
   ]
  },
  {
   "cell_type": "code",
   "execution_count": 11,
   "metadata": {},
   "outputs": [
    {
     "name": "stdout",
     "output_type": "stream",
     "text": [
      "Pesos iniciais: [0.36904468 0.71614553 0.52346204 0.44159716]\n",
      "Pesos wbias,w1,w2,w3: [ 3.06904468  1.55747753  2.45811604 -0.73108684]\n",
      "Acurracy: 100.0 %\n",
      "Numero de epocas: 373\n"
     ]
    }
   ],
   "source": [
    "percep2 = Perceptron(eta = 0.01,up = 1,down = -1)\n",
    "percep2.fit(inputs,labels)\n",
    "pesos2 = percep2.w\n",
    "score2 = model_score(inputs,labels,percep2)\n",
    "\n",
    "print('Pesos iniciais:', percep2.init_w)\n",
    "print('Pesos wbias,w1,w2,w3:',pesos2)\n",
    "print('Acurracy:', score2*100 , '%')\n",
    "print('Numero de epocas:',percep2.niter)"
   ]
  },
  {
   "cell_type": "code",
   "execution_count": 12,
   "metadata": {},
   "outputs": [
    {
     "name": "stdout",
     "output_type": "stream",
     "text": [
      "Pesos iniciais: [0.66311448 0.14533897 0.26623876 0.70269676]\n",
      "Pesos wbias,w1,w2,w3: [ 3.04311448  1.52766897  2.47119076 -0.72672724]\n",
      "Acurracy: 100.0 %\n",
      "Numero de epocas: 375\n"
     ]
    }
   ],
   "source": [
    "percep3 = Perceptron(eta = 0.01,up = 1,down = -1)\n",
    "percep3.fit(inputs,labels)\n",
    "pesos3 = percep3.w\n",
    "score3 = model_score(inputs,labels,percep3)\n",
    "\n",
    "print('Pesos iniciais:', percep3.init_w)\n",
    "print('Pesos wbias,w1,w2,w3:',pesos3)\n",
    "print('Acurracy:', score3*100 , '%')\n",
    "print('Numero de epocas:',percep3.niter)"
   ]
  },
  {
   "cell_type": "code",
   "execution_count": 13,
   "metadata": {},
   "outputs": [
    {
     "name": "stdout",
     "output_type": "stream",
     "text": [
      "Pesos iniciais: [0.60510873 0.62418441 0.34275902 0.72833426]\n",
      "Pesos wbias,w1,w2,w3: [ 2.88510873  1.41593241  2.37244102 -0.67183174]\n",
      "Acurracy: 100.0 %\n",
      "Numero de epocas: 309\n"
     ]
    }
   ],
   "source": [
    "percep4 = Perceptron(eta = 0.01,up = 1,down = -1)\n",
    "percep4.fit(inputs,labels)\n",
    "pesos4 = percep4.w\n",
    "score4 = model_score(inputs,labels,percep4)\n",
    "\n",
    "print('Pesos iniciais:', percep4.init_w)\n",
    "print('Pesos wbias,w1,w2,w3:',pesos4)\n",
    "print('Acurracy:', score4*100 , '%')\n",
    "print('Numero de epocas:',percep4.niter)"
   ]
  },
  {
   "cell_type": "markdown",
   "metadata": {},
   "source": [
    "##### Questão 2: Registrar os Resultados dos treinamentos"
   ]
  },
  {
   "cell_type": "code",
   "execution_count": 15,
   "metadata": {},
   "outputs": [
    {
     "name": "stdout",
     "output_type": "stream",
     "text": [
      "Treinamento 0:\n",
      "Pesos iniciais: [0.27850623 0.25409259 0.19300052 0.71837473]\n",
      "Pesos wbias,w1,w2,w3: [ 3.01850623  1.46490659  2.44861452 -0.72123527]\n",
      "Acurracy: 100.0 %\n",
      "Numero de epocas: 375\n",
      "--------------------------------------------------------\n",
      "Treinamento 1:\n",
      "Pesos iniciais: [0.70163907 0.43579001 0.20054082 0.35060032]\n",
      "Pesos wbias,w1,w2,w3: [ 3.10163907  1.57044201  2.48939482 -0.73920368]\n",
      "Acurracy: 100.0 %\n",
      "Numero de epocas: 394\n",
      "--------------------------------------------------------\n",
      "Treinamento 2:\n",
      "Pesos iniciais: [0.36904468 0.71614553 0.52346204 0.44159716]\n",
      "Pesos wbias,w1,w2,w3: [ 3.06904468  1.55747753  2.45811604 -0.73108684]\n",
      "Acurracy: 100.0 %\n",
      "Numero de epocas: 373\n",
      "--------------------------------------------------------\n",
      "Treinamento 3:\n",
      "Pesos iniciais: [0.66311448 0.14533897 0.26623876 0.70269676]\n",
      "Pesos wbias,w1,w2,w3: [ 3.04311448  1.52766897  2.47119076 -0.72672724]\n",
      "Acurracy: 100.0 %\n",
      "Numero de epocas: 375\n",
      "--------------------------------------------------------\n",
      "Treinamento 4:\n",
      "Pesos iniciais: [0.60510873 0.62418441 0.34275902 0.72833426]\n",
      "Pesos wbias,w1,w2,w3: [ 2.88510873  1.41593241  2.37244102 -0.67183174]\n",
      "Acurracy: 100.0 %\n",
      "Numero de epocas: 309\n"
     ]
    }
   ],
   "source": [
    "print('Treinamento 0:')\n",
    "print('Pesos iniciais:', percep.init_w)\n",
    "print('Pesos wbias,w1,w2,w3:',pesos)\n",
    "print('Acurracy:', score*100 , '%')\n",
    "print('Numero de epocas:',percep.niter)\n",
    "print('--------------------------------------------------------')\n",
    "\n",
    "print('Treinamento 1:')\n",
    "print('Pesos iniciais:', percep1.init_w)\n",
    "print('Pesos wbias,w1,w2,w3:',pesos1)\n",
    "print('Acurracy:', score1*100 , '%')\n",
    "print('Numero de epocas:',percep1.niter)\n",
    "print('--------------------------------------------------------')\n",
    "\n",
    "print('Treinamento 2:')\n",
    "print('Pesos iniciais:', percep2.init_w)\n",
    "print('Pesos wbias,w1,w2,w3:',pesos2)\n",
    "print('Acurracy:', score2*100 , '%')\n",
    "print('Numero de epocas:',percep2.niter)\n",
    "print('--------------------------------------------------------')\n",
    "\n",
    "print('Treinamento 3:')\n",
    "print('Pesos iniciais:', percep3.init_w)\n",
    "print('Pesos wbias,w1,w2,w3:',pesos3)\n",
    "print('Acurracy:', score3*100 , '%')\n",
    "print('Numero de epocas:',percep3.niter)\n",
    "print('--------------------------------------------------------')\n",
    "\n",
    "print('Treinamento 4:')\n",
    "print('Pesos iniciais:', percep4.init_w)\n",
    "print('Pesos wbias,w1,w2,w3:',pesos4)\n",
    "print('Acurracy:', score4*100 , '%')\n",
    "print('Numero de epocas:',percep4.niter)\n"
   ]
  },
  {
   "cell_type": "markdown",
   "metadata": {},
   "source": [
    "##### Questão 3: Analisar os resultados para as amostras de óleo da Tabela abaixo\n",
    "|Amostra|x1|x2|x3|y(t1)|y(t2)|y(t3)|y(t4)|yt(5)|\n",
    "|-|-|-|-|-|-|-|-|-|\n",
    "|A1|-0,3665|0,0620|5,9891||||||\n",
    "|A2|-0,7842|1,1267|5,5912||||||\n",
    "|A3|0,3012|0,5611|5,8234||||||\n",
    "|A4|0,7757|1,0648|8,0677||||||\n",
    "|A5|0,1570|0,8028|6,3040||||||\n",
    "|A6|-0,7014|1,0316|3,6005||||||\n",
    "|A7|0,3748|0,1536|6,1537||||||\n",
    "|A8|-0,6920|0,9404|4,4058||||||\n",
    "|A9|-1,3970|0,7141|4,9263||||||\n",
    "|A10|-1,8842|0,2805|1,2548||||||"
   ]
  },
  {
   "cell_type": "code",
   "execution_count": 35,
   "metadata": {},
   "outputs": [
    {
     "data": {
      "text/plain": [
       "array([[-0.3665,  0.062 ,  5.9891],\n",
       "       [-0.7842,  1.1267,  5.5912],\n",
       "       [ 0.3012,  0.5611,  5.8234],\n",
       "       [ 0.7757,  1.0648,  8.0677],\n",
       "       [ 0.157 ,  0.8028,  6.304 ],\n",
       "       [-0.7014,  1.0316,  3.6   ],\n",
       "       [ 0.3748,  0.1536,  6.1537],\n",
       "       [-0.692 ,  0.9404,  4.4058],\n",
       "       [-1.397 ,  0.7141,  4.9263],\n",
       "       [-1.8842,  0.2805,  1.2548]])"
      ]
     },
     "execution_count": 35,
     "metadata": {},
     "output_type": "execute_result"
    }
   ],
   "source": [
    "A =  np.array([[-0.3665,0.0620,5.9891],[-0.7842,1.1267,5.5912],[0.3012,0.5611,5.8234], [0.7757,1.0648,8.0677]\n",
    "    ,[0.1570,0.8028,6.3040],[-0.7014,1.0316,3.600],[0.3748,0.1536,6.1537],[-0.6920,0.9404,4.4058],\n",
    "    [-1.3970,0.7141,4.9263],[-1.8842,0.2805,1.2548]])\n",
    "A"
   ]
  },
  {
   "cell_type": "code",
   "execution_count": 38,
   "metadata": {},
   "outputs": [
    {
     "name": "stdout",
     "output_type": "stream",
     "text": [
      "y(t0):\n",
      "[-1  1  1  1  1  1 -1  1 -1  1]\n",
      "------------------------------\n",
      "y(t1):\n",
      "[-1  1  1  1  1  1 -1  1 -1 -1]\n",
      "------------------------------\n",
      "y(t2):\n",
      "[-1  1  1  1  1  1 -1  1 -1 -1]\n",
      "------------------------------\n",
      "y(t3):\n",
      "[-1  1  1  1  1  1 -1  1 -1 -1]\n",
      "------------------------------\n",
      "y(t4):\n",
      "[-1  1  1  1  1  1 -1  1 -1  1]\n"
     ]
    }
   ],
   "source": [
    "print('y(t0):')\n",
    "print(percep.predict(A))\n",
    "print('------------------------------')\n",
    "\n",
    "print('y(t1):')\n",
    "print(percep1.predict(A))\n",
    "print('------------------------------')\n",
    "\n",
    "print('y(t2):')\n",
    "print(percep2.predict(A))\n",
    "print('------------------------------')\n",
    "\n",
    "print('y(t3):')\n",
    "print(percep3.predict(A))\n",
    "print('------------------------------')\n",
    "\n",
    "print('y(t4):')\n",
    "print(percep4.predict(A))"
   ]
  },
  {
   "cell_type": "markdown",
   "metadata": {},
   "source": [
    "##### Questão 4: Explicar porque o número de épocas varias a cada treinamento do perceptron."
   ]
  },
  {
   "cell_type": "markdown",
   "metadata": {},
   "source": [
    "###### R: O número de épocas varia devido aos diferentes valores utilizados na inicialização dos pesos. A consequência disso é que para alguns valores serão necessárias mais iterações para convergir."
   ]
  },
  {
   "cell_type": "markdown",
   "metadata": {},
   "source": [
    "##### Questão 5 : Para a aplicação, discutir se é possível afirmar que as classes são linearmente separáveis."
   ]
  },
  {
   "cell_type": "code",
   "execution_count": 60,
   "metadata": {},
   "outputs": [
    {
     "data": {
      "text/plain": [
       "Text(0, 0.5, 'x3')"
      ]
     },
     "execution_count": 60,
     "metadata": {},
     "output_type": "execute_result"
    },
    {
     "data": {
      "image/png": "[encoded data removed]",
      "text/plain": [
       "<Figure size 1080x360 with 3 Axes>"
      ]
     },
     "metadata": {
      "needs_background": "light"
     },
     "output_type": "display_data"
    }
   ],
   "source": [
    "##### P1 = np.where(labels==1)\n",
    "P2 = np.where(labels==-1)\n",
    "\n",
    "XP1 = data[P1]\n",
    "XP2 = data[P2]\n",
    "\n",
    "plt.figure(figsize =(15,5))\n",
    "plt.subplot(1,3,1)\n",
    "plt.scatter(XP1[:,0],XP1[:,1],color = 'red', marker = 'o')\n",
    "plt.scatter(XP2[:,0],XP2[:,1],color = 'blue', marker = 'o')\n",
    "plt.xlabel('x1')\n",
    "plt.ylabel('x2')\n",
    "\n",
    "plt.subplot(1,3,2)\n",
    "plt.scatter(XP1[:,0],XP1[:,2],color = 'red', marker = 'o')\n",
    "plt.scatter(XP2[:,0],XP2[:,2],color = 'blue', marker = 'o')\n",
    "plt.xlabel('x1')\n",
    "plt.ylabel('x3')\n",
    "\n",
    "\n",
    "plt.subplot(1,3,3)\n",
    "plt.scatter(XP1[:,1],XP1[:,2],color = 'red', marker = 'o')\n",
    "plt.scatter(XP2[:,1],XP2[:,2],color = 'blue', marker = 'o')\n",
    "plt.xlabel('x2')\n",
    "plt.ylabel('x3')"
   ]
  },
  {
   "cell_type": "markdown",
   "metadata": {},
   "source": [
    "##### Como observado nos gráficos acima é difícil estabelecer uma reta que separe as classes assim apesar de o perceptron ser capaz de adaptar seus pesos para o conjunto de dados fornecidos é necessário um conjunto maior de dados para ser capaz de validar e afirmar que as classes são linearmente separáveis."
   ]
  },
  {
   "cell_type": "code",
   "execution_count": null,
   "metadata": {},
   "outputs": [],
   "source": []
  }
 ],
 "metadata": {
  "kernelspec": {
   "display_name": "Python 3",
   "language": "python",
   "name": "python3"
  },
  "language_info": {
   "codemirror_mode": {
    "name": "ipython",
    "version": 3
   },
   "file_extension": ".py",
   "mimetype": "text/x-python",
   "name": "python",
   "nbconvert_exporter": "python",
   "pygments_lexer": "ipython3",
   "version": "3.8.3"
  }
 },
 "nbformat": 4,
 "nbformat_minor": 4
}
